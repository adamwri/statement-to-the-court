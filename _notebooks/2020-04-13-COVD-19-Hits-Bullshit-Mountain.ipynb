{
 "cells": [
  {
   "cell_type": "markdown",
   "metadata": {},
   "source": [
    "# \"COVID-19 hits Bullshit Mountain\"\n",
    "> \"The conservative media bubble and pandemic response\"\n",
    "- toc: false\n",
    "- author: debs\n",
    "- branch: master\n",
    "- badges: false\n",
    "- image: images/bullshit_mountain.jpg\n",
    "- comments: true\n",
    "- categories: [politics, GOP, power]\n",
    "- hide: false\n",
    "- search_exclude: false"
   ]
  },
  {
   "cell_type": "markdown",
   "metadata": {},
   "source": [
    "![](images/bullshit_mountain.jpg)"
   ]
  },
  {
   "cell_type": "markdown",
   "metadata": {},
   "source": [
    "At Vox Patrick Sharkey examines county-level geolocation data and finds that [the two strongest predictors of poor social distancing scores during the COVID-19 pandemic are Donald Trump's vote share and climate change denial](https://www.vox.com/2020/4/10/21216216/coronavirus-social-distancing-texas-unacast-climate-change). "
   ]
  },
  {
   "cell_type": "markdown",
   "metadata": {},
   "source": [
    "![](images/sharkey_graph.png)"
   ]
  },
  {
   "cell_type": "markdown",
   "metadata": {},
   "source": [
    "It should surprise no one aware of Fox News' response to the pandemic that this is the case. The line from Bullshit Mountain throughout March was that the coronavirus was a Democratic conspiracy to destroy Donald Trump. Only once the bodies started piling up in April did Fox grudgingly admit that, yes, America was in the midst of a pandemic. So egregious was Fox's misinformation that [multiple lawsuits charging Fox with recklessly endangering American citizens are now working their way through the courts](https://www.vanityfair.com/news/2020/04/fox-news-prepares-coronavirus-misinformation-lawsuits).\n",
    "\n",
    "This is a particularly poignant example of what David Roberts rightly calls America's [epistemic crisis](https://www.vox.com/policy-and-politics/2017/11/2/16588964/america-epistemic-crisis). There are two separate partisan truths in America. One relies on traditional sources of evidence and authority such as science, reason, and the observation of the physical world. The other is mostly fabricated and exists solely to further the political project of the Republican Party. If traditional sources of evidence conflict with this second truth, they are vilified as tools of a sinister liberal elite seeking to hoodwink the American people. The paradigmatic example of this dynamic in action is the American right's nearly unique denial of climate science.\n",
    "\n",
    "For the most part, this second truth is used to push a policy platform that is against the interests of a huge majority of its supporters. And while the GOP policy platform has profound, life-threatening implications (e.g. [not expanding Medicaid with the Affordable Care Act](https://www.cbpp.org/research/health/medicaid-expansion-has-saved-at-least-19000-lives-new-research-finds)) it's insidious nature is diffuse and effectively hidden by the same propaganda machine that so effectively advocates for it. \n",
    "\n",
    "But COVID-19 is not diffuse and not hidden. More than 10,000 people have now died in the NYC metro area and most of the country is locked down. The evidence that a once a century pandemic is going on is unavoidable. And still millions of Americans persist in believing and behaving in ways that belie that basic, physical reality. Unfortunately, viruses do not care about politics and they will suffer for it, and soon. As this graphic demonstrating the differing course of the virus in sister states Kentucky (Democratic governor took strong measures) and Tennessee (GOP governor did nothing until late March) shows, they already are:"
   ]
  },
  {
   "cell_type": "markdown",
   "metadata": {},
   "source": [
    "![](images/kentucky_tennessee.png)"
   ]
  }
 ],
 "metadata": {
  "kernelspec": {
   "display_name": "Python 3",
   "language": "python",
   "name": "python3"
  },
  "language_info": {
   "codemirror_mode": {
    "name": "ipython",
    "version": 3
   },
   "file_extension": ".py",
   "mimetype": "text/x-python",
   "name": "python",
   "nbconvert_exporter": "python",
   "pygments_lexer": "ipython3",
   "version": "3.7.6"
  }
 },
 "nbformat": 4,
 "nbformat_minor": 4
}
