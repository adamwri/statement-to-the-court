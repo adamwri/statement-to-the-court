{
 "cells": [
  {
   "cell_type": "markdown",
   "metadata": {},
   "source": [
    "# \"Fully Subsidized COBRA\"\n",
    "> \"Democrats laughably inadequate plan to help the newly uninsured\"\n",
    "- toc: false\n",
    "- author: debs\n",
    "- branch: master\n",
    "- badges: false\n",
    "- image: images/cobra.jpg\n",
    "- comments: true\n",
    "- categories: [democrats, covid, policy failure]\n",
    "- hide: false\n",
    "- search_exclude: false"
   ]
  },
  {
   "cell_type": "markdown",
   "metadata": {},
   "source": [
    "![](images/cobra.jpg)"
   ]
  },
  {
   "cell_type": "markdown",
   "metadata": {},
   "source": [
    "Yesterday Democrats revealed their plan to keep some of the millions of workers laid off as a result of the COVID-19 economic shutdown insured: [fully subsidize the premiums of COBRA eligible workers](https://www.vox.com/platform/amp/2020/4/14/21219461/democrats-new-plan-keep-laid-off-workers-insured?__twitter_impression=true). COBRA is the government insurance program that allows laid-off former employees to stay on their employer-based insurance while subsidizing a portion of the premiums.  And while the full premium subsidy will be of great assistance to many newly unemployed workers, it is a grossly inadequate policy response to the problem at hand. \n",
    "\n",
    "The urgent public health need in the midst of a pandemic is to remove cost as a barrier for receiving medical care so that infected individuals are not discouraged from receiving necessary medical treatment. This plan fails badly for two reasons:\n",
    "\n",
    "- COBRA is not a universal benefit. To be eligible you must have been on an employer-based plan before being laid off. Many of the newly laid-off workers, particularly from the hard-hit restaurant and retail sectors, were not covered by their former employers and are not eligible for COBRA as a result. And it does nothing for those unemployed before the crisis. \n",
    "- Neither COBRA nor the expanded COBRA cover all medical costs. In particular, deductibles and co-pays are still the responsibility of the policyholder. These represent serious cost barriers, especially for the newly unemployed, and may discourage people from seeking out necessary care.\n",
    "\n",
    "Making the proposed policy even more objectionable is that it represents a huge taxpayer give-away to a rapacious private insurance industry that, despite continued strong profits, are already planning to [use the coronavirus as an excuse to jack up premiums in 2021](https://therealnews.com/stories/health-insurance-companies-profit-covid-19).\n",
    "\n",
    "Sadly, this proposal contains many hallmarks of Democratic policy since the Clinton administration. It is an inadequate response to the problem at hand. It depends on complicated eligibility and financing mechanisms that make it both less effective and more difficult for the end user. And it uses public funds to pay politically connected private interests to accomplish, poorly but at great profit, a public function.\n",
    "\n",
    "Unfortunately, the powers that be in the Democratic party view these faults as features. Until control of the party is wrested away from the Pelosis and Schumers of this world the Democratic party will continue to forward these inadequate, neoliberal, corporate giveaways as the best possible policy. But hey, they can always campaign on the fact that they aren't Republicans."
   ]
  }
 ],
 "metadata": {
  "kernelspec": {
   "display_name": "Python 3",
   "language": "python",
   "name": "python3"
  },
  "language_info": {
   "codemirror_mode": {
    "name": "ipython",
    "version": 3
   },
   "file_extension": ".py",
   "mimetype": "text/x-python",
   "name": "python",
   "nbconvert_exporter": "python",
   "pygments_lexer": "ipython3",
   "version": "3.7.3"
  }
 },
 "nbformat": 4,
 "nbformat_minor": 2
}
