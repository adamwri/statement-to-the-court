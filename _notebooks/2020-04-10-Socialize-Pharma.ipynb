{
 "cells": [
  {
   "cell_type": "markdown",
   "metadata": {},
   "source": [
    "# \"Socialize Pharma\"\n",
    "> \"The straightforward case for taking democratic control of drug discovery and production\"\n",
    "- toc: false\n",
    "- author: debs\n",
    "- branch: master\n",
    "- badges: false\n",
    "- image: images/pills.jpg\n",
    "- comments: true\n",
    "- categories: [pharma, socialism, market failure]\n",
    "- hide: false\n",
    "- search_exclude: false"
   ]
  },
  {
   "cell_type": "markdown",
   "metadata": {},
   "source": [
    "![](images/pills.jpg)"
   ]
  },
  {
   "cell_type": "markdown",
   "metadata": {},
   "source": [
    "At [Jacobin, Leigh Phillips uses some rare good news in the fight against antibiotic resistance](https://jacobinmag.com/2020/04/socialize-big-pharma-antibiotics-artificial-intelligence/) as a jumping-off point to advocate for socializing the pharmaceutical industry. And while he lays out the basic case for doing so well, he misses the fundamental absurdity of our current financing system for drug discovery. The case for socializing pharma becomes all the stronger once our current system of publicly funded biomedical research and government-granted patents is taken into account.\n",
    "\n",
    "The argument for socializing drug discovery and production is straight forward. Pharmaceutical companies earn the most profit from drugs that patients have to take every day for an indeterminate period - mostly to manage chronic conditions like high cholesterol, hypertension, and diabetes. Drugs that are needed infrequently and for a short period (e.g. antibiotics) or drugs that cure or prevent a disease (e.g. vaccines) are not as profitable. As a result, pharmaceutical companies expend endless resources on developing new drugs for diseases for which effective treatments already exist while completely ignoring entire classes of drugs for which there is a desperate need for new therapies. As Phillips points out this isn't so much a failing of pharmaceutical companies themselves as a systematic failure of capitalism. Because the capitalist measure of value, profit, does not account for actual human need we are left with the absurd situation of billions being spent on developing new statins while facing the very real possibility of not having effective antibiotics. The simplest solution is to remove the profit incentive, socialize the discovery and production of drugs (preferably internationally), and direct it towards fulfilling real human needs.\n",
    "\n",
    "This is especially true when one considers the extent to which the pharmaceutical industry is already subsidized by the American taxpayer. As Phillips points out, most ([if not all](https://www.biocompare.com/Life-Science-News/347047-NIH-Funding-Behind-All-New-Drug-Approvals-by-FDA-from-2010-2016/)) of the basic research that results in novel therapies are carried out in university labs and funded primarily by public grants via the National Institutes of Health (NIH). These grants, about 40 billion, account for more than a third of total pharmaceutical research. The real give away though, [as Dean Baker so rightfully and regularly points out](https://truthout.org/articles/sanders-khanna-bill-would-stop-propping-up-drug-prices/), is the government-granted patent protections for new drugs. These patents allow pharmaceutical companies to sell drugs for several hundred to several thousands of times the cost of production and drive a majority of their 440+ billion (2.2% of GDP in 2018) revenue per year. Baker estimates that if the government simply directly paid the entire costs of research upfront and sold the drugs at the cost of production the savings to patients would be on the order of 400 billion annually!\n",
    "\n",
    "Socializing pharma would not only redirect drug discovery towards fulfilling crucial medical needs but it would massively improve the affordability and access to medicines. It is a no brainer and should be part of any Left plan to reform our broken health care system."
   ]
  }
 ],
 "metadata": {
  "kernelspec": {
   "display_name": "Python 3",
   "language": "python",
   "name": "python3"
  },
  "language_info": {
   "codemirror_mode": {
    "name": "ipython",
    "version": 3
   },
   "file_extension": ".py",
   "mimetype": "text/x-python",
   "name": "python",
   "nbconvert_exporter": "python",
   "pygments_lexer": "ipython3",
   "version": "3.7.6"
  }
 },
 "nbformat": 4,
 "nbformat_minor": 4
}
