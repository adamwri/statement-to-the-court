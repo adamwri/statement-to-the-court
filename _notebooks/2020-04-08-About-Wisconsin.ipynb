{
 "cells": [
  {
   "cell_type": "markdown",
   "metadata": {},
   "source": [
    "# \"About Wisconsin\"\n",
    "> \"Sending voters to the abattoir\"\n",
    "- toc: false\n",
    "- branch: master\n",
    "- badges: true\n",
    "- comments: true\n",
    "- categories: [politics, GOP, power]\n",
    "- image: images/some_folder/your_image.png\n",
    "- hide: false\n",
    "- search_exclude: false"
   ]
  },
  {
   "cell_type": "markdown",
   "metadata": {},
   "source": [
    "On April 6, 2020 John Roberts sentenced an unknown number of Wisconsinites to their deaths. In a 5-4 decision, the Republican Supreme Court majority ruled that absentee ballots for the April 7 Wisconsin primary - in which a critical state Supreme Court seat was up for election - would only be counted if they were postmarked by that date. This despite two inconvenient facts:\n",
    "- Hundreds of thousands of the 1.2M voters who requested absentee ballots were not expected to have received them by April 7.\n",
    "- Like the rest of the United States, Wisconsin is beset by a pandemic caused by a highly contagious, air borne influenza virus. \n",
    "\n",
    "As a result of this desicion, Wisconsinites were faced with a grim choice the next day: dramatically increase their chance of infection (and further community spread) by venturing out into public to cast their vote or stay home and accept their disenfranchisement. Perhaps shocked by their depravity in creating this dilemna, the right-wing ideologues on the Court left thier opinion unsigned.\n",
    "\n",
    "This episode is disturbing in of itself - the Republican Party, for narrow partisan advantage, engineered a situation where voters had to chose between their safety and their franchise. But the reason it is the subject of my innaugural blog is it is illustrative of three of the worst pathologies of the modern GOP:\n",
    "- Power as the ultimate end in itself. The Court made this ruling because it made it more likely that the GOP would retain a majority on the Wisconsin State Supreme Court. That majority in turn will rule in ways to further GOP minority rule in one of the most gerrymandered states in American history. This circular logic of power as both a means and an end in itself is fundamental to the conservative psyche.\n",
    "- The centrality of voter supression to the GOP electoral strategy. Due to the deep unpopularity of their agenda and the changing demographic profile of the country, the GOP recognizes that they cannot win free and fair elections. To compete electorally, they must systematically supress the vote of likely Democratic voters (minorities, urbanites, the young). This is a particular obsession of Chief Justice John Roberts, who in exchange for allowing a crippled version of the Affordable Care Act to survive maintains a positive approval rating amongst Democrats while systematically working to undermine their ability to vote.\n",
    "- Extremism. Not even the physical safety of fellow citizens is worth protecting in pursuit of partisan advantage.\n",
    "\n",
    "These themes will recur regularly as the American poltical system descends further into chaos and dysfunction. "
   ]
  }
 ],
 "metadata": {
  "kernelspec": {
   "display_name": "Python 3",
   "language": "python",
   "name": "python3"
  },
  "language_info": {
   "codemirror_mode": {
    "name": "ipython",
    "version": 3
   },
   "file_extension": ".py",
   "mimetype": "text/x-python",
   "name": "python",
   "nbconvert_exporter": "python",
   "pygments_lexer": "ipython3",
   "version": "3.7.6"
  }
 },
 "nbformat": 4,
 "nbformat_minor": 4
}
