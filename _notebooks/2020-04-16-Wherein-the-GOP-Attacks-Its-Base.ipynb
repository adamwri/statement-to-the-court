{
 "cells": [
  {
   "cell_type": "markdown",
   "metadata": {},
   "source": [
    "# \"Wherein the GOP Attacks Its Base\"\n",
    "> \"Privatizing the USPS would be an ideological victory for the GOP, but a disaster for its base\"\n",
    "- toc: false\n",
    "- author: debs\n",
    "- branch: master\n",
    "- badges: false\n",
    "- image: images/usps.png\n",
    "- comments: true\n",
    "- categories: [politics, GOP, biting the hand that feeds you]\n",
    "- hide: false\n",
    "- search_exclude: false"
   ]
  },
  {
   "cell_type": "markdown",
   "metadata": {},
   "source": [
    "![](images/usps.png)"
   ]
  },
  {
   "cell_type": "markdown",
   "metadata": {},
   "source": [
    "With the USPS facing insolvency as a result of the massive decline in bulk mail caused by the COVID-19 pandemic, the GOP seems poised to achieve a long term ideological goal and privatize it. [Catherine Kim](https://www.vox.com/identities/2020/4/16/21219067/us-postal-service-shutting-down-rural-america-native-communities) has a well done and timely piece describing myriad ways in which this would be disastrous for rural Americans, many of whom would have to drive tens or even hundreds of miles to reach a private mail distribution center. This is an especially serious problem for the disabled and elderly:\n",
    "\n",
    ">Accessing medication in rural areas can be a struggle when a town is too small to support a pharmacy. But for those who are disabled or elderly, physically filling prescriptions can be an impossible task — which is why many rely on the Postal Service to deliver their meds.\n",
    "\n",
    "The whole saga is yet another sad example of the GOP attacking the material interests of its base. There is no real reason to privatize the postal service, just a dogmatic commitment to privatizing everything. The GOP could do nothing and not disrupt the lives of millions of its core supporters. Instead, ideology takes precedence over any kind of rational political calculation and the GOP plows forwards confident they won't be punished at the ballot box. And they're right - they almost certainly won't be. Rural whites, despite suffering the pointless destruction of an institution essential to their well-being, will continue to dutifully check the box with a R next to it.\n",
    "\n",
    "Nothing will fundamentally change in America without some sort of class consciousness, unless politicians are punished for screwing their constituents. The neoliberal system that has brought us record inequality, declining life expectancy, and sky rocketing deaths of despair will continue unchallenged as our politicians bicker about cultural and identarian issues. And that is precisely as our ruling elite would have it."
   ]
  }
 ],
 "metadata": {
  "kernelspec": {
   "display_name": "Python 3",
   "language": "python",
   "name": "python3"
  },
  "language_info": {
   "codemirror_mode": {
    "name": "ipython",
    "version": 3
   },
   "file_extension": ".py",
   "mimetype": "text/x-python",
   "name": "python",
   "nbconvert_exporter": "python",
   "pygments_lexer": "ipython3",
   "version": "3.7.6"
  }
 },
 "nbformat": 4,
 "nbformat_minor": 4
}
