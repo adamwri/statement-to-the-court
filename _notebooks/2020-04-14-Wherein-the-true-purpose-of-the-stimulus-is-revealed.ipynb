{
 "cells": [
  {
   "cell_type": "markdown",
   "metadata": {},
   "source": [
    "# \"Wherein the true purpose of the stimulus is revealed\"\n",
    "> \"The plan is to save capital\"\n",
    "- toc: false\n",
    "- author: debs\n",
    "- branch: master\n",
    "- badges: false\n",
    "- image: images/treasury_check.jpg\n",
    "- comments: true\n",
    "- categories: [stimulus, capital, wtf]\n",
    "- hide: false\n",
    "- search_exclude: false"
   ]
  },
  {
   "cell_type": "markdown",
   "metadata": {},
   "source": [
    "![](images/treasury_check.jpg)"
   ]
  },
  {
   "cell_type": "markdown",
   "metadata": {},
   "source": [
    "David Dayen has an incredible scoop today regarding the [1,200 USD CARES Act stimulus checks](https://prospect.org/coronavirus/banks-can-grab-stimulus-check-pay-debts/). The purpose of these checks is to give all adult Americans a one-time payment to pay for essentials during the economic shutdown caused by the COVID-19 pandemic. And while the amount and one-time nature of the payment is inadequate for the task, it was one of the few features of the bill that was directly targeted at helping average Americans pay their bills. Or so we thought.\n",
    "\n",
    "Incredibly, Treasury officials have given financial institutions explicit permission to seize these funds - which are to be directly deposited by the IRS into taxpayers bank accounts - to pay off existing debts. These include delinquent loans and past due fees - even on accounts that are already closed.\n",
    "\n",
    "It's hard to imagine a more explicit, and terrifying statement of the government's priorities in the unfolding crisis. By all means put some food on the table and keep the lights on. But only once the financial industry gets its taste.\n",
    "\n",
    "As [Hamilton Nolan poignantly wrote last week](http://inthesetimes.com/working/entry/22437/covid-coronavirus-capital-government-workers-unemployed), the plan is to save capital and let you die."
   ]
  }
 ],
 "metadata": {
  "kernelspec": {
   "display_name": "Python 3",
   "language": "python",
   "name": "python3"
  },
  "language_info": {
   "codemirror_mode": {
    "name": "ipython",
    "version": 3
   },
   "file_extension": ".py",
   "mimetype": "text/x-python",
   "name": "python",
   "nbconvert_exporter": "python",
   "pygments_lexer": "ipython3",
   "version": "3.7.3"
  }
 },
 "nbformat": 4,
 "nbformat_minor": 2
}
